{
 "cells": [
  {
   "cell_type": "code",
   "execution_count": 1,
   "id": "bad0f956",
   "metadata": {},
   "outputs": [],
   "source": [
    "%load_ext autoreload\n",
    "%autoreload 2\n",
    "\n",
    "import numpy as np\n",
    "import pandas as pd\n",
    "\n",
    "import matplotlib.pyplot as plt\n",
    "import seaborn as sns\n",
    "sns.set()\n",
    "\n",
    "from sklearn.model_selection import cross_val_score\n",
    "from catboost import CatBoostClassifier\n",
    "\n",
    "from warnings import filterwarnings\n",
    "filterwarnings('ignore')"
   ]
  },
  {
   "cell_type": "code",
   "execution_count": 2,
   "id": "8ef7dac7",
   "metadata": {},
   "outputs": [],
   "source": [
    "params = {\n",
    "    'task_type' : 'GPU',\n",
    "    'n_estimators' : 125,\n",
    "    'max_depth' : 13,\n",
    "    'learning_rate' : 0.062516,\n",
    "    'random_strength' : 8,\n",
    "    'grow_policy': 'SymmetricTree'\n",
    "}"
   ]
  },
  {
   "cell_type": "markdown",
   "id": "49a11cad",
   "metadata": {},
   "source": [
    "## Baseline"
   ]
  },
  {
   "cell_type": "code",
   "execution_count": 3,
   "id": "d1884597",
   "metadata": {},
   "outputs": [],
   "source": [
    "train = pd.read_csv(\"Datasets/train_dataset_hackathon_mkb.csv\", sep = ';', encoding = 'cp1251')\n",
    "test = pd.read_csv(\"Datasets/test_dataset_hackathon_mkb.csv\", sep = ';', encoding = 'cp1251')\n",
    "\n",
    "lable_col = 'TARGET'\n",
    "features_cols = train.drop('TARGET', axis='columns').select_dtypes(include=[np.number]).columns.tolist()"
   ]
  },
  {
   "cell_type": "code",
   "execution_count": 4,
   "id": "d2146259",
   "metadata": {},
   "outputs": [
    {
     "name": "stdout",
     "output_type": "stream",
     "text": [
      "roc_auc_score: 0.9046257893765149\n"
     ]
    }
   ],
   "source": [
    "model = CatBoostClassifier(**params, silent = True)\n",
    "\n",
    "cv_baseline_score = cross_val_score(model, train[features_cols].fillna(0), train[lable_col], cv=5, scoring='roc_auc').mean()\n",
    "print(f'roc_auc_score: {cv_baseline_score}')"
   ]
  },
  {
   "cell_type": "markdown",
   "id": "1b9cfb87",
   "metadata": {},
   "source": [
    "## Замена значений F-ок на их логарифмы:"
   ]
  },
  {
   "cell_type": "code",
   "execution_count": 6,
   "id": "c42de7d5",
   "metadata": {},
   "outputs": [],
   "source": [
    "train = pd.read_csv(\"Datasets/train_dataset_hackathon_mkb.csv\", sep = ';', encoding = 'cp1251')\n",
    "test = pd.read_csv(\"Datasets/test_dataset_hackathon_mkb.csv\", sep = ';', encoding = 'cp1251')\n",
    "\n",
    "lable_col = 'TARGET'\n",
    "features_cols = train.drop('TARGET', axis='columns').select_dtypes(include=[np.number]).columns.tolist()"
   ]
  },
  {
   "cell_type": "code",
   "execution_count": 12,
   "id": "5d4e5f1d",
   "metadata": {},
   "outputs": [
    {
     "data": {
      "text/plain": [
       "111"
      ]
     },
     "execution_count": 12,
     "metadata": {},
     "output_type": "execute_result"
    }
   ],
   "source": [
    "features_cols.__len__()"
   ]
  },
  {
   "cell_type": "code",
   "execution_count": 5,
   "id": "92551316",
   "metadata": {},
   "outputs": [],
   "source": [
    "float_cols = train.columns[train.dtypes == 'float64']\n",
    "int_cols = train.columns[train.dtypes == 'int64']\n",
    "\n",
    "F_cols = [col for col in float_cols if col[:2] == \"F1\" or col[:2] == \"F2\"]\n",
    "non_F_cols = [col for col in float_cols if col[:2] != \"F1\" and col[:2] != \"F2\"]\n",
    "\n",
    "def transform(df):\n",
    "    \n",
    "    for col in F_cols:\n",
    "        \n",
    "        df[col] = df[col].transform(np.log10)"
   ]
  },
  {
   "cell_type": "code",
   "execution_count": 7,
   "id": "795c1add",
   "metadata": {},
   "outputs": [],
   "source": [
    "transform(train)\n",
    "transform(test)"
   ]
  },
  {
   "cell_type": "code",
   "execution_count": 9,
   "id": "4cb0941f",
   "metadata": {},
   "outputs": [
    {
     "name": "stdout",
     "output_type": "stream",
     "text": [
      "roc_auc_score: 0.90327756821628\n"
     ]
    }
   ],
   "source": [
    "model = CatBoostClassifier(**params, silent = True)\n",
    "\n",
    "cv_baseline_score = cross_val_score(model, train[features_cols].fillna(0), train[lable_col], cv=5, scoring='roc_auc').mean()\n",
    "print(f'roc_auc_score: {cv_baseline_score}')"
   ]
  },
  {
   "cell_type": "markdown",
   "id": "575fd6d8",
   "metadata": {},
   "source": [
    "Вредит"
   ]
  },
  {
   "cell_type": "markdown",
   "id": "bb31cd6a",
   "metadata": {},
   "source": [
    "##  Добавление Workersrange:"
   ]
  },
  {
   "cell_type": "code",
   "execution_count": 13,
   "id": "db0a4c09",
   "metadata": {},
   "outputs": [],
   "source": [
    "train = pd.read_csv(\"Datasets/train_dataset_hackathon_mkb.csv\", sep = ';', encoding = 'cp1251')\n",
    "test = pd.read_csv(\"Datasets/test_dataset_hackathon_mkb.csv\", sep = ';', encoding = 'cp1251')"
   ]
  },
  {
   "cell_type": "code",
   "execution_count": 15,
   "id": "fbbfc89f",
   "metadata": {},
   "outputs": [],
   "source": [
    "uniqs = train['WORKERSRANGE'].unique()\n",
    "replacements = dict()\n",
    "\n",
    "for i, j in zip([un for un in uniqs if type(un) == str], [int(un.split()[0]) for un in uniqs if type(un) == str]):\n",
    "    \n",
    "    replacements[i] = j\n",
    "    \n",
    "def transform(df):\n",
    "    \n",
    "    df['WORKERSRANGE'].replace(replacements, inplace = True)\n",
    "    df['WORKERSRANGE'].fillna(-1, inplace = True)"
   ]
  },
  {
   "cell_type": "code",
   "execution_count": 16,
   "id": "0f2eebc0",
   "metadata": {},
   "outputs": [],
   "source": [
    "transform(train)\n",
    "transform(test)"
   ]
  },
  {
   "cell_type": "code",
   "execution_count": 17,
   "id": "4ddcba39",
   "metadata": {},
   "outputs": [],
   "source": [
    "lable_col = 'TARGET'\n",
    "features_cols = train.drop('TARGET', axis='columns').select_dtypes(include=[np.number]).columns.tolist()"
   ]
  },
  {
   "cell_type": "code",
   "execution_count": 18,
   "id": "6818c28d",
   "metadata": {},
   "outputs": [
    {
     "data": {
      "text/plain": [
       "112"
      ]
     },
     "execution_count": 18,
     "metadata": {},
     "output_type": "execute_result"
    }
   ],
   "source": [
    "features_cols.__len__()"
   ]
  },
  {
   "cell_type": "code",
   "execution_count": 19,
   "id": "8f6abd3d",
   "metadata": {},
   "outputs": [
    {
     "name": "stdout",
     "output_type": "stream",
     "text": [
      "roc_auc_score: 0.9126256103545038\n"
     ]
    }
   ],
   "source": [
    "model = CatBoostClassifier(**params, silent = True)\n",
    "\n",
    "cv_baseline_score = cross_val_score(model, train[features_cols].fillna(0), train[lable_col], cv=5, scoring='roc_auc').mean()\n",
    "print(f'roc_auc_score: {cv_baseline_score}')"
   ]
  },
  {
   "cell_type": "raw",
   "id": "a107b5f4",
   "metadata": {},
   "source": [
    "Помогает, оставляем. Попробуем закодировать"
   ]
  },
  {
   "cell_type": "code",
   "execution_count": 21,
   "id": "bf06fe37",
   "metadata": {},
   "outputs": [],
   "source": [
    "train = pd.read_csv(\"Datasets/train_dataset_hackathon_mkb.csv\", sep = ';', encoding = 'cp1251')\n",
    "test = pd.read_csv(\"Datasets/test_dataset_hackathon_mkb.csv\", sep = ';', encoding = 'cp1251')"
   ]
  },
  {
   "cell_type": "code",
   "execution_count": 20,
   "id": "d9fcbf65",
   "metadata": {},
   "outputs": [],
   "source": [
    "from sklearn.preprocessing import LabelEncoder"
   ]
  },
  {
   "cell_type": "code",
   "execution_count": 22,
   "id": "1b4f7782",
   "metadata": {},
   "outputs": [],
   "source": [
    "def transform(df):\n",
    "    \n",
    "    le = LabelEncoder()\n",
    "    df['WORKERSRANGE'].fillna(\"unknown\", inplace = True)  \n",
    "    df['WORKERSRANGE'] = le.fit_transform(df['WORKERSRANGE'])"
   ]
  },
  {
   "cell_type": "code",
   "execution_count": 23,
   "id": "35bed3f4",
   "metadata": {},
   "outputs": [],
   "source": [
    "transform(train)\n",
    "transform(test)"
   ]
  },
  {
   "cell_type": "code",
   "execution_count": 24,
   "id": "e48c459f",
   "metadata": {},
   "outputs": [],
   "source": [
    "lable_col = 'TARGET'\n",
    "features_cols = train.drop('TARGET', axis='columns').select_dtypes(include=[np.number]).columns.tolist()"
   ]
  },
  {
   "cell_type": "code",
   "execution_count": 25,
   "id": "0d6fd8a6",
   "metadata": {},
   "outputs": [
    {
     "data": {
      "text/plain": [
       "112"
      ]
     },
     "execution_count": 25,
     "metadata": {},
     "output_type": "execute_result"
    }
   ],
   "source": [
    "features_cols.__len__()"
   ]
  },
  {
   "cell_type": "code",
   "execution_count": 26,
   "id": "b71d5c99",
   "metadata": {},
   "outputs": [
    {
     "name": "stdout",
     "output_type": "stream",
     "text": [
      "roc_auc_score: 0.9108871123529136\n"
     ]
    }
   ],
   "source": [
    "model = CatBoostClassifier(**params, silent = True)\n",
    "\n",
    "cv_baseline_score = cross_val_score(model, train[features_cols].fillna(0), train[lable_col], cv=5, scoring='roc_auc').mean()\n",
    "print(f'roc_auc_score: {cv_baseline_score}')"
   ]
  },
  {
   "cell_type": "raw",
   "id": "e935d04c",
   "metadata": {},
   "source": [
    "Перепишем первую версию более по-человечески"
   ]
  },
  {
   "cell_type": "code",
   "execution_count": 27,
   "id": "60b4a430",
   "metadata": {},
   "outputs": [],
   "source": [
    "train = pd.read_csv(\"Datasets/train_dataset_hackathon_mkb.csv\", sep = ';', encoding = 'cp1251')\n",
    "test = pd.read_csv(\"Datasets/test_dataset_hackathon_mkb.csv\", sep = ';', encoding = 'cp1251')"
   ]
  },
  {
   "cell_type": "code",
   "execution_count": 28,
   "id": "e1b1c559",
   "metadata": {},
   "outputs": [],
   "source": [
    "def transform(df):\n",
    "    \n",
    "    df['WORKERSRANGE'].fillna(\"-1\", inplace = True)  \n",
    "    df['WORKERSRANGE'] = df['WORKERSRANGE'].transform(lambda x : int(x.split(\" \")[0]))"
   ]
  },
  {
   "cell_type": "code",
   "execution_count": 29,
   "id": "0c59437d",
   "metadata": {},
   "outputs": [],
   "source": [
    "transform(train)\n",
    "transform(test)"
   ]
  },
  {
   "cell_type": "code",
   "execution_count": 31,
   "id": "199a3674",
   "metadata": {},
   "outputs": [],
   "source": [
    "lable_col = 'TARGET'\n",
    "features_cols = train.drop('TARGET', axis='columns').select_dtypes(include=[np.number]).columns.tolist() "
   ]
  },
  {
   "cell_type": "code",
   "execution_count": 32,
   "id": "ace1541b",
   "metadata": {},
   "outputs": [
    {
     "data": {
      "text/plain": [
       "112"
      ]
     },
     "execution_count": 32,
     "metadata": {},
     "output_type": "execute_result"
    }
   ],
   "source": [
    "features_cols.__len__()"
   ]
  },
  {
   "cell_type": "code",
   "execution_count": 33,
   "id": "d21bcbee",
   "metadata": {},
   "outputs": [
    {
     "name": "stdout",
     "output_type": "stream",
     "text": [
      "roc_auc_score: 0.9126257391981174\n"
     ]
    }
   ],
   "source": [
    "model = CatBoostClassifier(**params, silent = True)\n",
    "\n",
    "cv_baseline_score = cross_val_score(model, train[features_cols].fillna(0), train[lable_col], cv=5, scoring='roc_auc').mean()\n",
    "print(f'roc_auc_score: {cv_baseline_score}')"
   ]
  },
  {
   "cell_type": "markdown",
   "id": "1fce0da8",
   "metadata": {},
   "source": [
    "## Добавление зависимости от номера месяца:"
   ]
  },
  {
   "cell_type": "code",
   "execution_count": 34,
   "id": "f68a293e",
   "metadata": {},
   "outputs": [],
   "source": [
    "train = pd.read_csv(\"Datasets/train_dataset_hackathon_mkb.csv\", sep = ';', encoding = 'cp1251')\n",
    "test = pd.read_csv(\"Datasets/test_dataset_hackathon_mkb.csv\", sep = ';', encoding = 'cp1251')"
   ]
  },
  {
   "cell_type": "code",
   "execution_count": 38,
   "id": "0ec358bf",
   "metadata": {},
   "outputs": [],
   "source": [
    "def transform(df):\n",
    "    \n",
    "    df['WORKERSRANGE'].fillna(\"-1\", inplace = True)  \n",
    "    df['WORKERSRANGE'] = df['WORKERSRANGE'].transform(lambda x : int(x.split(\" \")[0]))\n",
    "    \n",
    "    month_names = ['JAN', 'FEB', 'MAR', 'APR', 'MAY', 'JUN', 'JUL', 'AUG', 'SEP', 'OCT', 'NOV', 'DEC']\n",
    "    \n",
    "    df['month_num'] = df['SIGN_DATE'].transform(lambda x : month_names.index(x[2:5]) + 1)"
   ]
  },
  {
   "cell_type": "code",
   "execution_count": 39,
   "id": "69b42a3e",
   "metadata": {},
   "outputs": [],
   "source": [
    "transform(train)\n",
    "transform(test)"
   ]
  },
  {
   "cell_type": "code",
   "execution_count": 40,
   "id": "56afe9a4",
   "metadata": {},
   "outputs": [],
   "source": [
    "lable_col = 'TARGET'\n",
    "features_cols = train.drop('TARGET', axis='columns').select_dtypes(include=[np.number]).columns.tolist()"
   ]
  },
  {
   "cell_type": "code",
   "execution_count": 41,
   "id": "9c2832e1",
   "metadata": {},
   "outputs": [
    {
     "data": {
      "text/plain": [
       "113"
      ]
     },
     "execution_count": 41,
     "metadata": {},
     "output_type": "execute_result"
    }
   ],
   "source": [
    "features_cols.__len__()"
   ]
  },
  {
   "cell_type": "code",
   "execution_count": 42,
   "id": "5452fba4",
   "metadata": {},
   "outputs": [
    {
     "name": "stdout",
     "output_type": "stream",
     "text": [
      "roc_auc_score: 0.8790616236167246\n"
     ]
    }
   ],
   "source": [
    "model = CatBoostClassifier(**params, silent = True)\n",
    "\n",
    "cv_baseline_score = cross_val_score(model, train[features_cols].fillna(0), train[lable_col], cv=5, scoring='roc_auc').mean()\n",
    "print(f'roc_auc_score: {cv_baseline_score}')"
   ]
  },
  {
   "cell_type": "markdown",
   "id": "c78c58c6",
   "metadata": {},
   "source": [
    "ОКЕЙ. А что насчет сезонов?"
   ]
  },
  {
   "cell_type": "code",
   "execution_count": 48,
   "id": "6fa181c5",
   "metadata": {},
   "outputs": [],
   "source": [
    "train = pd.read_csv(\"Datasets/train_dataset_hackathon_mkb.csv\", sep = ';', encoding = 'cp1251')\n",
    "test = pd.read_csv(\"Datasets/test_dataset_hackathon_mkb.csv\", sep = ';', encoding = 'cp1251')"
   ]
  },
  {
   "cell_type": "code",
   "execution_count": 49,
   "id": "44e7f8dd",
   "metadata": {},
   "outputs": [],
   "source": [
    "def transform(df):\n",
    "    \n",
    "    df['WORKERSRANGE'].fillna(\"-1\", inplace = True)  \n",
    "    df['WORKERSRANGE'] = df['WORKERSRANGE'].transform(lambda x : int(x.split(\" \")[0]))\n",
    "    \n",
    "    month_names = ['JAN', 'FEB', 'MAR', 'APR', 'MAY', 'JUN', 'JUL', 'AUG', 'SEP', 'OCT', 'NOV', 'DEC']\n",
    "    \n",
    "    df['month_num'] = df['SIGN_DATE'].transform(lambda x : ((month_names.index(x[2:5]) + 2) % 12) < 5).astype(int)"
   ]
  },
  {
   "cell_type": "code",
   "execution_count": 50,
   "id": "9e5e9ad2",
   "metadata": {},
   "outputs": [],
   "source": [
    "transform(train)\n",
    "transform(test)"
   ]
  },
  {
   "cell_type": "code",
   "execution_count": 51,
   "id": "fa4d493c",
   "metadata": {},
   "outputs": [],
   "source": [
    "lable_col = 'TARGET'\n",
    "features_cols = train.drop('TARGET', axis='columns').select_dtypes(include=[np.number]).columns.tolist()"
   ]
  },
  {
   "cell_type": "code",
   "execution_count": 52,
   "id": "f10395db",
   "metadata": {},
   "outputs": [
    {
     "data": {
      "text/plain": [
       "113"
      ]
     },
     "execution_count": 52,
     "metadata": {},
     "output_type": "execute_result"
    }
   ],
   "source": [
    "features_cols.__len__()"
   ]
  },
  {
   "cell_type": "code",
   "execution_count": 53,
   "id": "b0c1afbd",
   "metadata": {},
   "outputs": [
    {
     "name": "stdout",
     "output_type": "stream",
     "text": [
      "roc_auc_score: 0.8996819988029442\n"
     ]
    }
   ],
   "source": [
    "model = CatBoostClassifier(**params, silent = True)\n",
    "\n",
    "cv_baseline_score = cross_val_score(model, train[features_cols].fillna(0), train[lable_col], cv=5, scoring='roc_auc').mean()\n",
    "print(f'roc_auc_score: {cv_baseline_score}')"
   ]
  },
  {
   "cell_type": "raw",
   "id": "a463078f",
   "metadata": {},
   "source": [
    "Окей, плохая фича"
   ]
  },
  {
   "cell_type": "markdown",
   "id": "ebbf8942",
   "metadata": {},
   "source": [
    "## Добавление OHE"
   ]
  },
  {
   "cell_type": "code",
   "execution_count": 54,
   "id": "34be1545",
   "metadata": {},
   "outputs": [],
   "source": [
    "train = pd.read_csv(\"Datasets/train_dataset_hackathon_mkb.csv\", sep = ';', encoding = 'cp1251')\n",
    "test = pd.read_csv(\"Datasets/test_dataset_hackathon_mkb.csv\", sep = ';', encoding = 'cp1251')"
   ]
  },
  {
   "cell_type": "markdown",
   "id": "33d35bf4",
   "metadata": {},
   "source": [
    "#### Citizenship_name"
   ]
  },
  {
   "cell_type": "code",
   "execution_count": 55,
   "id": "42bfdcb5",
   "metadata": {},
   "outputs": [],
   "source": [
    "def transform(df):\n",
    "    \n",
    "    df['WORKERSRANGE'].fillna(\"-1\", inplace = True)  \n",
    "    df['WORKERSRANGE'] = df['WORKERSRANGE'].transform(lambda x : int(x.split(\" \")[0]))\n",
    "    \n",
    "    col_name = 'Российская Федерация'    \n",
    "    df[col_name] = (df['CITIZENSHIP_NAME'] == col_name).astype(int)"
   ]
  },
  {
   "cell_type": "code",
   "execution_count": 56,
   "id": "2caa452a",
   "metadata": {},
   "outputs": [],
   "source": [
    "transform(train)\n",
    "transform(test)"
   ]
  },
  {
   "cell_type": "code",
   "execution_count": 57,
   "id": "2ebd51cc",
   "metadata": {},
   "outputs": [],
   "source": [
    "lable_col = 'TARGET'\n",
    "features_cols = train.drop('TARGET', axis='columns').select_dtypes(include=[np.number]).columns.tolist()"
   ]
  },
  {
   "cell_type": "code",
   "execution_count": 58,
   "id": "1525fe45",
   "metadata": {},
   "outputs": [
    {
     "data": {
      "text/plain": [
       "113"
      ]
     },
     "execution_count": 58,
     "metadata": {},
     "output_type": "execute_result"
    }
   ],
   "source": [
    "features_cols.__len__()"
   ]
  },
  {
   "cell_type": "code",
   "execution_count": 59,
   "id": "4635c687",
   "metadata": {},
   "outputs": [
    {
     "name": "stdout",
     "output_type": "stream",
     "text": [
      "roc_auc_score: 0.9160271573894392\n"
     ]
    }
   ],
   "source": [
    "model = CatBoostClassifier(**params, silent = True)\n",
    "\n",
    "cv_baseline_score = cross_val_score(model, train[features_cols].fillna(0), train[lable_col], cv=5, scoring='roc_auc').mean()\n",
    "print(f'roc_auc_score: {cv_baseline_score}')"
   ]
  },
  {
   "cell_type": "raw",
   "id": "fa74e507",
   "metadata": {},
   "source": [
    "Хорошая фича"
   ]
  },
  {
   "cell_type": "markdown",
   "id": "c2e6c881",
   "metadata": {},
   "source": [
    "ohe_cols = [\n",
    "        'OKFS_GROUP',\n",
    "        'OKOPF_GROUP',\n",
    "        'OKOGU_GROUP'\n",
    "    ]\n",
    "    \n",
    "    for col in ohe_cols:\n",
    "        \n",
    "        df = df.join(pd.get_dummies(df[col]))\n",
    "        df[col] = df[col].isna().astype(int)"
   ]
  },
  {
   "cell_type": "code",
   "execution_count": 69,
   "id": "2cbcba42",
   "metadata": {},
   "outputs": [],
   "source": [
    "train = pd.read_csv(\"Datasets/train_dataset_hackathon_mkb.csv\", sep = ';', encoding = 'cp1251')\n",
    "test = pd.read_csv(\"Datasets/test_dataset_hackathon_mkb.csv\", sep = ';', encoding = 'cp1251')"
   ]
  },
  {
   "cell_type": "code",
   "execution_count": 70,
   "id": "cda631f3",
   "metadata": {},
   "outputs": [],
   "source": [
    "def transform(df):\n",
    "    \n",
    "    df['WORKERSRANGE'].fillna(\"-1\", inplace = True)  \n",
    "    df['WORKERSRANGE'] = df['WORKERSRANGE'].transform(lambda x : int(x.split(\" \")[0]))\n",
    "    \n",
    "    col_name = 'Российская Федерация'    \n",
    "    df[col_name] = (df['CITIZENSHIP_NAME'] == col_name).astype(int)\n",
    "    \n",
    "    ohe_cols = [\n",
    "        'OKFS_GROUP'\n",
    "    ]\n",
    "    \n",
    "    for col in ohe_cols:\n",
    "        \n",
    "        df = df.join(pd.get_dummies(df[col]))\n",
    "        df[col] = df[col].isna().astype(int)\n",
    "    \n",
    "    return df"
   ]
  },
  {
   "cell_type": "code",
   "execution_count": 71,
   "id": "31af042a",
   "metadata": {},
   "outputs": [],
   "source": [
    "train = transform(train)\n",
    "test = transform(test)"
   ]
  },
  {
   "cell_type": "code",
   "execution_count": 72,
   "id": "c030f882",
   "metadata": {},
   "outputs": [],
   "source": [
    "lable_col = 'TARGET'\n",
    "features_cols = train.drop('TARGET', axis='columns').select_dtypes(include=[np.number]).columns.tolist()"
   ]
  },
  {
   "cell_type": "code",
   "execution_count": 73,
   "id": "a2547ebb",
   "metadata": {},
   "outputs": [
    {
     "data": {
      "text/plain": [
       "119"
      ]
     },
     "execution_count": 73,
     "metadata": {},
     "output_type": "execute_result"
    }
   ],
   "source": [
    "features_cols.__len__()"
   ]
  },
  {
   "cell_type": "code",
   "execution_count": 74,
   "id": "db37ab44",
   "metadata": {},
   "outputs": [
    {
     "name": "stdout",
     "output_type": "stream",
     "text": [
      "roc_auc_score: 0.9114953990228823\n"
     ]
    }
   ],
   "source": [
    "model = CatBoostClassifier(**params, silent = True)\n",
    "\n",
    "cv_baseline_score = cross_val_score(model, train[features_cols].fillna(0), train[lable_col], cv=5, scoring='roc_auc').mean()\n",
    "print(f'roc_auc_score: {cv_baseline_score}')"
   ]
  },
  {
   "cell_type": "raw",
   "id": "8e120ed2",
   "metadata": {},
   "source": [
    "Упало"
   ]
  },
  {
   "cell_type": "code",
   "execution_count": 75,
   "id": "e7ac63a3",
   "metadata": {},
   "outputs": [],
   "source": [
    "train = pd.read_csv(\"Datasets/train_dataset_hackathon_mkb.csv\", sep = ';', encoding = 'cp1251')\n",
    "test = pd.read_csv(\"Datasets/test_dataset_hackathon_mkb.csv\", sep = ';', encoding = 'cp1251')"
   ]
  },
  {
   "cell_type": "code",
   "execution_count": 76,
   "id": "ad2cab09",
   "metadata": {},
   "outputs": [],
   "source": [
    "def transform(df):\n",
    "    \n",
    "    df['WORKERSRANGE'].fillna(\"-1\", inplace = True)  \n",
    "    df['WORKERSRANGE'] = df['WORKERSRANGE'].transform(lambda x : int(x.split(\" \")[0]))\n",
    "    \n",
    "    col_name = 'Российская Федерация'    \n",
    "    df[col_name] = (df['CITIZENSHIP_NAME'] == col_name).astype(int)\n",
    "    \n",
    "    ohe_cols = [\n",
    "        'OKOPF_GROUP'\n",
    "    ]\n",
    "    \n",
    "    for col in ohe_cols:\n",
    "        \n",
    "        df = df.join(pd.get_dummies(df[col]))\n",
    "        df[col] = df[col].isna().astype(int)\n",
    "    \n",
    "    return df"
   ]
  },
  {
   "cell_type": "code",
   "execution_count": 77,
   "id": "1eddf12d",
   "metadata": {},
   "outputs": [],
   "source": [
    "train = transform(train)\n",
    "test = transform(test)"
   ]
  },
  {
   "cell_type": "code",
   "execution_count": 78,
   "id": "3dc7aef1",
   "metadata": {},
   "outputs": [],
   "source": [
    "lable_col = 'TARGET'\n",
    "features_cols = train.drop('TARGET', axis='columns').select_dtypes(include=[np.number]).columns.tolist()"
   ]
  },
  {
   "cell_type": "code",
   "execution_count": 79,
   "id": "01681539",
   "metadata": {},
   "outputs": [
    {
     "data": {
      "text/plain": [
       "119"
      ]
     },
     "execution_count": 79,
     "metadata": {},
     "output_type": "execute_result"
    }
   ],
   "source": [
    "features_cols.__len__()"
   ]
  },
  {
   "cell_type": "code",
   "execution_count": 80,
   "id": "2998fb00",
   "metadata": {},
   "outputs": [
    {
     "name": "stdout",
     "output_type": "stream",
     "text": [
      "roc_auc_score: 0.9132537551181367\n"
     ]
    }
   ],
   "source": [
    "model = CatBoostClassifier(**params, silent = True)\n",
    "\n",
    "cv_baseline_score = cross_val_score(model, train[features_cols].fillna(0), train[lable_col], cv=5, scoring='roc_auc').mean()\n",
    "print(f'roc_auc_score: {cv_baseline_score}')"
   ]
  },
  {
   "cell_type": "raw",
   "id": "9860e42b",
   "metadata": {},
   "source": [
    "Упало, вредит"
   ]
  },
  {
   "cell_type": "code",
   "execution_count": 81,
   "id": "70da0056",
   "metadata": {},
   "outputs": [],
   "source": [
    "train = pd.read_csv(\"Datasets/train_dataset_hackathon_mkb.csv\", sep = ';', encoding = 'cp1251')\n",
    "test = pd.read_csv(\"Datasets/test_dataset_hackathon_mkb.csv\", sep = ';', encoding = 'cp1251')"
   ]
  },
  {
   "cell_type": "code",
   "execution_count": 82,
   "id": "e088aa24",
   "metadata": {},
   "outputs": [],
   "source": [
    "def transform(df):\n",
    "    \n",
    "    df['WORKERSRANGE'].fillna(\"-1\", inplace = True)  \n",
    "    df['WORKERSRANGE'] = df['WORKERSRANGE'].transform(lambda x : int(x.split(\" \")[0]))\n",
    "    \n",
    "    col_name = 'Российская Федерация'    \n",
    "    df[col_name] = (df['CITIZENSHIP_NAME'] == col_name).astype(int)\n",
    "    \n",
    "    ohe_cols = [\n",
    "        'OKOGU_GROUP'\n",
    "    ]\n",
    "    \n",
    "    for col in ohe_cols:\n",
    "        \n",
    "        df = df.join(pd.get_dummies(df[col]))\n",
    "        df[col] = df[col].isna().astype(int)\n",
    "    \n",
    "    return df"
   ]
  },
  {
   "cell_type": "code",
   "execution_count": 83,
   "id": "f3a0d6e5",
   "metadata": {},
   "outputs": [],
   "source": [
    "train = transform(train)\n",
    "test = transform(test)"
   ]
  },
  {
   "cell_type": "code",
   "execution_count": 84,
   "id": "5a74a28f",
   "metadata": {},
   "outputs": [],
   "source": [
    "lable_col = 'TARGET'\n",
    "features_cols = train.drop('TARGET', axis='columns').select_dtypes(include=[np.number]).columns.tolist()"
   ]
  },
  {
   "cell_type": "code",
   "execution_count": 85,
   "id": "25925bcd",
   "metadata": {},
   "outputs": [
    {
     "data": {
      "text/plain": [
       "118"
      ]
     },
     "execution_count": 85,
     "metadata": {},
     "output_type": "execute_result"
    }
   ],
   "source": [
    "features_cols.__len__()"
   ]
  },
  {
   "cell_type": "code",
   "execution_count": 86,
   "id": "59c54512",
   "metadata": {},
   "outputs": [
    {
     "name": "stdout",
     "output_type": "stream",
     "text": [
      "roc_auc_score: 0.9146005981798092\n"
     ]
    }
   ],
   "source": [
    "model = CatBoostClassifier(**params, silent = True)\n",
    "\n",
    "cv_baseline_score = cross_val_score(model, train[features_cols].fillna(0), train[lable_col], cv=5, scoring='roc_auc').mean()\n",
    "print(f'roc_auc_score: {cv_baseline_score}')"
   ]
  },
  {
   "cell_type": "raw",
   "id": "596ac046",
   "metadata": {},
   "source": [
    "И на этой упало"
   ]
  },
  {
   "cell_type": "markdown",
   "id": "5ff7cf14",
   "metadata": {},
   "source": [
    "## Текущая форма: roc_auc_score: 0.9160271573894392"
   ]
  },
  {
   "cell_type": "code",
   "execution_count": 99,
   "id": "4227cdf8",
   "metadata": {},
   "outputs": [],
   "source": [
    "train = pd.read_csv(\"Datasets/train_dataset_hackathon_mkb.csv\", sep = ';', encoding = 'cp1251')\n",
    "test = pd.read_csv(\"Datasets/test_dataset_hackathon_mkb.csv\", sep = ';', encoding = 'cp1251')"
   ]
  },
  {
   "cell_type": "code",
   "execution_count": 100,
   "id": "0f855f06",
   "metadata": {},
   "outputs": [],
   "source": [
    "def transform(df):\n",
    "    \n",
    "    df['WORKERSRANGE'].fillna(\"-1\", inplace = True)  \n",
    "    df['WORKERSRANGE'] = df['WORKERSRANGE'].transform(lambda x : int(x.split(\" \")[0]))\n",
    "    \n",
    "    col_name = 'Российская Федерация'    \n",
    "    df[col_name] = (df['CITIZENSHIP_NAME'] == col_name).astype(int)"
   ]
  },
  {
   "cell_type": "code",
   "execution_count": 101,
   "id": "b5298974",
   "metadata": {},
   "outputs": [],
   "source": [
    "transform(train)\n",
    "transform(test)"
   ]
  },
  {
   "cell_type": "code",
   "execution_count": 102,
   "id": "c4b7170d",
   "metadata": {},
   "outputs": [],
   "source": [
    "lable_col = 'TARGET'\n",
    "features_cols = train.drop('TARGET', axis='columns').select_dtypes(include=[np.number]).columns.tolist()"
   ]
  },
  {
   "cell_type": "code",
   "execution_count": 103,
   "id": "d9f9353f",
   "metadata": {},
   "outputs": [
    {
     "data": {
      "text/plain": [
       "113"
      ]
     },
     "execution_count": 103,
     "metadata": {},
     "output_type": "execute_result"
    }
   ],
   "source": [
    "features_cols.__len__()"
   ]
  },
  {
   "cell_type": "code",
   "execution_count": 104,
   "id": "30d9f1c0",
   "metadata": {
    "scrolled": false
   },
   "outputs": [
    {
     "name": "stdout",
     "output_type": "stream",
     "text": [
      "0 id_contract\n"
     ]
    },
    {
     "name": "stderr",
     "output_type": "stream",
     "text": [
      "Custom logger is already specified. Specify more than one logger at same time is not thread safe."
     ]
    },
    {
     "name": "stdout",
     "output_type": "stream",
     "text": [
      "roc_auc_score: 0.9195083437595107\n",
      "1 id_client\n",
      "roc_auc_score: 0.915933695328244\n",
      "2 IP_flag\n",
      "roc_auc_score: 0.9184054493497318\n",
      "3 F1100\n",
      "roc_auc_score: 0.9184285337927202\n",
      "4 F1110\n",
      "roc_auc_score: 0.9173704203724613\n",
      "5 F1150\n",
      "roc_auc_score: 0.9179149115810432\n",
      "6 F1160\n",
      "roc_auc_score: 0.9177058749324353\n",
      "7 F1170\n",
      "roc_auc_score: 0.9193863782158683\n",
      "8 F1180\n",
      "roc_auc_score: 0.9170512384777373\n",
      "9 F1190\n",
      "roc_auc_score: 0.9163532337413661\n",
      "10 F1200\n",
      "roc_auc_score: 0.9174449217148849\n",
      "11 F1210\n",
      "roc_auc_score: 0.9169821616981618\n",
      "12 F1220\n",
      "roc_auc_score: 0.91803349880872\n",
      "13 F1230\n",
      "roc_auc_score: 0.917363637252187\n",
      "14 F1240\n",
      "roc_auc_score: 0.9181712177743371\n",
      "15 F1250\n",
      "roc_auc_score: 0.9185631075022263\n",
      "16 F1260\n",
      "roc_auc_score: 0.9177331779953308\n",
      "17 F1300\n",
      "roc_auc_score: 0.9179339513396814\n",
      "18 F1310\n",
      "roc_auc_score: 0.9185120019102591\n",
      "19 F1320\n",
      "roc_auc_score: 0.919663610309874\n",
      "20 F1350\n",
      "roc_auc_score: 0.9194370885249974\n",
      "21 F1360\n",
      "roc_auc_score: 0.9194896047953754\n",
      "22 F1370\n",
      "roc_auc_score: 0.918214193095352\n",
      "23 F1400\n",
      "roc_auc_score: 0.9206420321125961\n",
      "24 F1410\n",
      "roc_auc_score: 0.9208588002824015\n",
      "25 F1420\n",
      "roc_auc_score: 0.9183517977214578\n",
      "26 F1450\n",
      "roc_auc_score: 0.9176729807634894\n",
      "27 F1500\n",
      "roc_auc_score: 0.919060639268894\n",
      "28 F1510\n",
      "roc_auc_score: 0.9179091840849496\n",
      "29 F1520\n",
      "roc_auc_score: 0.9181477674764977\n",
      "30 F1530\n",
      "roc_auc_score: 0.9185659704217901\n",
      "31 F1550\n",
      "roc_auc_score: 0.9183577751882839\n",
      "32 F1600\n",
      "roc_auc_score: 0.9192011087176871\n",
      "33 F1700\n",
      "roc_auc_score: 0.9186035769079075\n",
      "34 F2100\n",
      "roc_auc_score: 0.9185752659864935\n",
      "35 F2110\n",
      "roc_auc_score: 0.9192010093804066\n",
      "36 F2120\n",
      "roc_auc_score: 0.9172774497176018\n",
      "37 F2200\n",
      "roc_auc_score: 0.9184594786813364\n",
      "38 F2210\n",
      "roc_auc_score: 0.9182080752371707\n",
      "39 F2220\n",
      "roc_auc_score: 0.9196235865517\n",
      "40 F2300\n",
      "roc_auc_score: 0.9186201692916219\n",
      "41 F2310\n",
      "roc_auc_score: 0.9180612956979541\n",
      "42 F2320\n",
      "roc_auc_score: 0.9186277187585006\n",
      "43 F2330\n",
      "roc_auc_score: 0.9192413049096174\n",
      "44 F2340\n",
      "roc_auc_score: 0.9180970662331864\n",
      "45 F2350\n",
      "roc_auc_score: 0.9192954427115465\n",
      "46 F2400\n",
      "roc_auc_score: 0.918433198220678\n",
      "47 F2410\n",
      "roc_auc_score: 0.9193151652143252\n",
      "48 F1150_LAG1\n",
      "roc_auc_score: 0.9189150140943143\n",
      "49 F1230_LAG1\n",
      "roc_auc_score: 0.9195496219750077\n",
      "50 F1410_LAG1\n",
      "roc_auc_score: 0.9187735876171687\n",
      "51 F1510_LAG1\n",
      "roc_auc_score: 0.9181044029276674\n",
      "52 F1520_LAG1\n",
      "roc_auc_score: 0.9177465109380796\n",
      "53 F2110_LAG1\n",
      "roc_auc_score: 0.9194607101130188\n",
      "54 F2120_LAG1\n",
      "roc_auc_score: 0.9178251414358817\n",
      "55 F2200_LAG1\n",
      "roc_auc_score: 0.918269934606365\n",
      "56 F2210_LAG1\n",
      "roc_auc_score: 0.9185164315733566\n",
      "57 F2220_LAG1\n",
      "roc_auc_score: 0.9193453057360965\n",
      "58 F2300_LAG1\n",
      "roc_auc_score: 0.9175787002355774\n",
      "59 F2320_LAG1\n",
      "roc_auc_score: 0.9202850285702422\n",
      "60 F2330_LAG1\n",
      "roc_auc_score: 0.9199878561765267\n",
      "61 F2400_LAG1\n",
      "roc_auc_score: 0.9178194228676647\n",
      "62 EGRPOINCLUDED\n",
      "roc_auc_score: 0.9185172119813139\n",
      "63 OKATO_REGIONCODE\n",
      "roc_auc_score: 0.9201497682961042\n",
      "64 OKATO_FED\n",
      "roc_auc_score: 0.9193975442437171\n",
      "65 OKTMO_CODE\n",
      "roc_auc_score: 0.9175983120084268\n",
      "66 OKTMO_FED\n",
      "roc_auc_score: 0.9172379026192109\n",
      "67 WORKERSRANGE\n",
      "roc_auc_score: 0.9114958353851594\n",
      "68 COUNTCOOWNERFCSM\n",
      "roc_auc_score: 0.9185262957407341\n",
      "69 COUNTCOOWNERROSSTAT\n",
      "roc_auc_score: 0.9186471166418322\n",
      "70 COUNTCOOWNEREGRUL\n",
      "roc_auc_score: 0.9174082666327825\n",
      "71 COUNTBRANCH\n",
      "roc_auc_score: 0.9187829486215945\n",
      "72 COUNTBRANCHROSSTAT\n",
      "roc_auc_score: 0.9186283933189054\n",
      "73 COUNTBRANCHEGRUL\n",
      "roc_auc_score: 0.9178846565274569\n",
      "74 TELEPHONECOUNT\n",
      "roc_auc_score: 0.917715910600104\n",
      "75 MANAGERCOUNTINCOUNTRY\n",
      "roc_auc_score: 0.9170627277509269\n",
      "76 MANAGERCOUNTINREGION\n",
      "roc_auc_score: 0.9181708268774912\n",
      "77 MANAGERINNCOUNT\n",
      "roc_auc_score: 0.9168708770784477\n",
      "78 PLAINTIFF_CASESNUMBER_YEAR\n",
      "roc_auc_score: 0.9173530629999691\n",
      "79 PLAINTIFF_SUM_YEAR\n",
      "roc_auc_score: 0.9166819883340942\n",
      "80 DEFENDANT_CASESNUMBER_YEAR\n",
      "roc_auc_score: 0.9180065998349501\n",
      "81 DEFENDANT_SUM_YEAR\n",
      "roc_auc_score: 0.9164678951022779\n",
      "82 THIRDOROTHERPERSON_YEAR\n",
      "roc_auc_score: 0.917816535996408\n",
      "83 PLAINTIFF_CASESNUMBER_EVER\n",
      "roc_auc_score: 0.9184441665350487\n",
      "84 PLAINTIFF_SUM_EVER\n",
      "roc_auc_score: 0.9186461597245306\n",
      "85 DEFENDANT_CASESNUMBER_EVER\n",
      "roc_auc_score: 0.9163201530542722\n",
      "86 DEFENDANT_SUM_EVER\n",
      "roc_auc_score: 0.9180562443283851\n",
      "87 THIRDOROTHERPERSON_EVER\n",
      "roc_auc_score: 0.9169098308776039\n",
      "88 ADMITTEDNUMBER_233_YEAR\n",
      "roc_auc_score: 0.9150181428979366\n",
      "89 NOTADMITTEDNUMBER_233_YEAR\n",
      "roc_auc_score: 0.918559995216967\n",
      "90 WINNERNUMBER_233_YEAR\n",
      "roc_auc_score: 0.9182307267023833\n",
      "91 SIGNEDNUMBER_233_YEAR\n",
      "roc_auc_score: 0.9181787693936945\n",
      "92 SUM_233_YEAR\n",
      "roc_auc_score: 0.9192609488138977\n",
      "93 ADMITTEDNUMBER_233_EVER\n",
      "roc_auc_score: 0.9172151273794693\n",
      "94 NOTADMITTEDNUMBER_233_EVER\n",
      "roc_auc_score: 0.9175115674453638\n",
      "95 WINNERNUMBER_233_EVER\n",
      "roc_auc_score: 0.9173183651426061\n",
      "96 SIGNEDNUMBER_233_EVER\n",
      "roc_auc_score: 0.9187119103030199\n",
      "97 SUM_233_EVER\n",
      "roc_auc_score: 0.9184855307447413\n",
      "98 ADMITTEDNUMBER_95_YEAR\n",
      "roc_auc_score: 0.917615014897571\n",
      "99 NOTADMITTEDNUMBER_95_YEAR\n",
      "roc_auc_score: 0.9183703388040122\n",
      "100 WINNERNUMBER_95_YEAR\n",
      "roc_auc_score: 0.9181853415997075\n",
      "101 SIGNEDNUMBER_95_YEAR\n",
      "roc_auc_score: 0.9183896971638497\n",
      "102 SUM_95_YEAR\n",
      "roc_auc_score: 0.9187482530606832\n",
      "103 ADMITTEDNUMBER_95_EVER\n",
      "roc_auc_score: 0.9177226617732568\n",
      "104 NOTADMITTEDNUMBER_EVER\n",
      "roc_auc_score: 0.9183328367946839\n",
      "105 WINNERNUMBER_95_EVER\n",
      "roc_auc_score: 0.9193206169194645\n",
      "106 SIGNEDNUMBER_95_EVER\n",
      "roc_auc_score: 0.9193244648535263\n",
      "107 SUM_95_EVER\n",
      "roc_auc_score: 0.9211203973095736\n",
      "108 FLAG_DISQUALIFICATION\n",
      "roc_auc_score: 0.9219889509336351\n",
      "109 COUNT_CHANGE_YEAR\n",
      "roc_auc_score: 0.9202307843920344\n",
      "110 COUNT_CHANGE_EVER\n",
      "roc_auc_score: 0.9182992557773749\n",
      "111 AGE\n",
      "roc_auc_score: 0.9150472172267465\n",
      "112 Российская Федерация\n",
      "roc_auc_score: 0.9193037277492451\n"
     ]
    }
   ],
   "source": [
    "best_score = 0.9160271573894392\n",
    "k = 0\n",
    "\n",
    "for i in range(features_cols.__len__()):\n",
    "    \n",
    "    features_cols = train.drop('TARGET', axis='columns').select_dtypes(include=[np.number]).columns.tolist()\n",
    "    dropped_col = features_cols.pop(k)\n",
    "    print(i, dropped_col)\n",
    "    \n",
    "    model = CatBoostClassifier(**params, silent = True)\n",
    "\n",
    "    cv_baseline_score = cross_val_score(model, train[features_cols].fillna(0), train[lable_col], cv=5, scoring='roc_auc').mean()\n",
    "    print(f'roc_auc_score: {cv_baseline_score}')\n",
    "    \n",
    "    if cv_baseline_score > best_score:\n",
    "        best_score = cv_baseline_score\n",
    "        train.drop(columns = dropped_col, inplace = True)\n",
    "    else:\n",
    "        k += 1"
   ]
  },
  {
   "cell_type": "code",
   "execution_count": 105,
   "id": "96342d2a",
   "metadata": {},
   "outputs": [
    {
     "data": {
      "text/plain": [
       "['id_client',\n",
       " 'IP_flag',\n",
       " 'F1100',\n",
       " 'F1110',\n",
       " 'F1150',\n",
       " 'F1160',\n",
       " 'F1170',\n",
       " 'F1180',\n",
       " 'F1190',\n",
       " 'F1200',\n",
       " 'F1210',\n",
       " 'F1220',\n",
       " 'F1230',\n",
       " 'F1240',\n",
       " 'F1250',\n",
       " 'F1260',\n",
       " 'F1300',\n",
       " 'F1310',\n",
       " 'F1350',\n",
       " 'F1360',\n",
       " 'F1370',\n",
       " 'F1420',\n",
       " 'F1450',\n",
       " 'F1500',\n",
       " 'F1510',\n",
       " 'F1520',\n",
       " 'F1530',\n",
       " 'F1550',\n",
       " 'F1600',\n",
       " 'F1700',\n",
       " 'F2100',\n",
       " 'F2110',\n",
       " 'F2120',\n",
       " 'F2200',\n",
       " 'F2210',\n",
       " 'F2220',\n",
       " 'F2300',\n",
       " 'F2310',\n",
       " 'F2320',\n",
       " 'F2330',\n",
       " 'F2340',\n",
       " 'F2350',\n",
       " 'F2400',\n",
       " 'F2410',\n",
       " 'F1150_LAG1',\n",
       " 'F1230_LAG1',\n",
       " 'F1410_LAG1',\n",
       " 'F1510_LAG1',\n",
       " 'F1520_LAG1',\n",
       " 'F2110_LAG1',\n",
       " 'F2120_LAG1',\n",
       " 'F2200_LAG1',\n",
       " 'F2210_LAG1',\n",
       " 'F2220_LAG1',\n",
       " 'F2300_LAG1',\n",
       " 'F2320_LAG1',\n",
       " 'F2330_LAG1',\n",
       " 'F2400_LAG1',\n",
       " 'EGRPOINCLUDED',\n",
       " 'OKATO_REGIONCODE',\n",
       " 'OKATO_FED',\n",
       " 'OKTMO_CODE',\n",
       " 'OKTMO_FED',\n",
       " 'WORKERSRANGE',\n",
       " 'COUNTCOOWNERFCSM',\n",
       " 'COUNTCOOWNERROSSTAT',\n",
       " 'COUNTCOOWNEREGRUL',\n",
       " 'COUNTBRANCH',\n",
       " 'COUNTBRANCHROSSTAT',\n",
       " 'COUNTBRANCHEGRUL',\n",
       " 'TELEPHONECOUNT',\n",
       " 'MANAGERCOUNTINCOUNTRY',\n",
       " 'MANAGERCOUNTINREGION',\n",
       " 'MANAGERINNCOUNT',\n",
       " 'PLAINTIFF_CASESNUMBER_YEAR',\n",
       " 'PLAINTIFF_SUM_YEAR',\n",
       " 'DEFENDANT_CASESNUMBER_YEAR',\n",
       " 'DEFENDANT_SUM_YEAR',\n",
       " 'THIRDOROTHERPERSON_YEAR',\n",
       " 'PLAINTIFF_CASESNUMBER_EVER',\n",
       " 'PLAINTIFF_SUM_EVER',\n",
       " 'DEFENDANT_CASESNUMBER_EVER',\n",
       " 'DEFENDANT_SUM_EVER',\n",
       " 'THIRDOROTHERPERSON_EVER',\n",
       " 'ADMITTEDNUMBER_233_YEAR',\n",
       " 'NOTADMITTEDNUMBER_233_YEAR',\n",
       " 'WINNERNUMBER_233_YEAR',\n",
       " 'SIGNEDNUMBER_233_YEAR',\n",
       " 'SUM_233_YEAR',\n",
       " 'ADMITTEDNUMBER_233_EVER',\n",
       " 'NOTADMITTEDNUMBER_233_EVER',\n",
       " 'WINNERNUMBER_233_EVER',\n",
       " 'SIGNEDNUMBER_233_EVER',\n",
       " 'SUM_233_EVER',\n",
       " 'ADMITTEDNUMBER_95_YEAR',\n",
       " 'NOTADMITTEDNUMBER_95_YEAR',\n",
       " 'WINNERNUMBER_95_YEAR',\n",
       " 'SIGNEDNUMBER_95_YEAR',\n",
       " 'SUM_95_YEAR',\n",
       " 'ADMITTEDNUMBER_95_EVER',\n",
       " 'NOTADMITTEDNUMBER_EVER',\n",
       " 'WINNERNUMBER_95_EVER',\n",
       " 'SIGNEDNUMBER_95_EVER',\n",
       " 'COUNT_CHANGE_YEAR',\n",
       " 'COUNT_CHANGE_EVER',\n",
       " 'AGE',\n",
       " 'Российская Федерация']"
      ]
     },
     "execution_count": 105,
     "metadata": {},
     "output_type": "execute_result"
    }
   ],
   "source": [
    "train.drop('TARGET', axis='columns').select_dtypes(include=[np.number]).columns.tolist()"
   ]
  },
  {
   "cell_type": "code",
   "execution_count": 143,
   "id": "aed695b2",
   "metadata": {},
   "outputs": [],
   "source": [
    "FEATURES_BACKUP = ['id_client',\n",
    " 'IP_flag',\n",
    " 'F1100',\n",
    " 'F1110',\n",
    " 'F1150',\n",
    " 'F1160',\n",
    " 'F1170',\n",
    " 'F1180',\n",
    " 'F1190',\n",
    " 'F1200',\n",
    " 'F1210',\n",
    " 'F1220',\n",
    " 'F1230',\n",
    " 'F1240',\n",
    " 'F1250',\n",
    " 'F1260',\n",
    " 'F1300',\n",
    " 'F1310',\n",
    " 'F1350',\n",
    " 'F1360',\n",
    " 'F1370',\n",
    " 'F1420',\n",
    " 'F1450',\n",
    " 'F1500',\n",
    " 'F1510',\n",
    " 'F1520',\n",
    " 'F1530',\n",
    " 'F1550',\n",
    " 'F1600',\n",
    " 'F1700',\n",
    " 'F2100',\n",
    " 'F2110',\n",
    " 'F2120',\n",
    " 'F2200',\n",
    " 'F2210',\n",
    " 'F2220',\n",
    " 'F2300',\n",
    " 'F2310',\n",
    " 'F2320',\n",
    " 'F2330',\n",
    " 'F2340',\n",
    " 'F2350',\n",
    " 'F2400',\n",
    " 'F2410',\n",
    " 'F1150_LAG1',\n",
    " 'F1230_LAG1',\n",
    " 'F1410_LAG1',\n",
    " 'F1510_LAG1',\n",
    " 'F1520_LAG1',\n",
    " 'F2110_LAG1',\n",
    " 'F2120_LAG1',\n",
    " 'F2200_LAG1',\n",
    " 'F2210_LAG1',\n",
    " 'F2220_LAG1',\n",
    " 'F2300_LAG1',\n",
    " 'F2320_LAG1',\n",
    " 'F2330_LAG1',\n",
    " 'F2400_LAG1',\n",
    " 'EGRPOINCLUDED',\n",
    " 'OKATO_REGIONCODE',\n",
    " 'OKATO_FED',\n",
    " 'OKTMO_CODE',\n",
    " 'OKTMO_FED',\n",
    " 'WORKERSRANGE',\n",
    " 'COUNTCOOWNERFCSM',\n",
    " 'COUNTCOOWNERROSSTAT',\n",
    " 'COUNTCOOWNEREGRUL',\n",
    " 'COUNTBRANCH',\n",
    " 'COUNTBRANCHROSSTAT',\n",
    " 'COUNTBRANCHEGRUL',\n",
    " 'TELEPHONECOUNT',\n",
    " 'MANAGERCOUNTINCOUNTRY',\n",
    " 'MANAGERCOUNTINREGION',\n",
    " 'MANAGERINNCOUNT',\n",
    " 'PLAINTIFF_CASESNUMBER_YEAR',\n",
    " 'PLAINTIFF_SUM_YEAR',\n",
    " 'DEFENDANT_CASESNUMBER_YEAR',\n",
    " 'DEFENDANT_SUM_YEAR',\n",
    " 'THIRDOROTHERPERSON_YEAR',\n",
    " 'PLAINTIFF_CASESNUMBER_EVER',\n",
    " 'PLAINTIFF_SUM_EVER',\n",
    " 'DEFENDANT_CASESNUMBER_EVER',\n",
    " 'DEFENDANT_SUM_EVER',\n",
    " 'THIRDOROTHERPERSON_EVER',\n",
    " 'ADMITTEDNUMBER_233_YEAR',\n",
    " 'NOTADMITTEDNUMBER_233_YEAR',\n",
    " 'WINNERNUMBER_233_YEAR',\n",
    " 'SIGNEDNUMBER_233_YEAR',\n",
    " 'SUM_233_YEAR',\n",
    " 'ADMITTEDNUMBER_233_EVER',\n",
    " 'NOTADMITTEDNUMBER_233_EVER',\n",
    " 'WINNERNUMBER_233_EVER',\n",
    " 'SIGNEDNUMBER_233_EVER',\n",
    " 'SUM_233_EVER',\n",
    " 'ADMITTEDNUMBER_95_YEAR',\n",
    " 'NOTADMITTEDNUMBER_95_YEAR',\n",
    " 'WINNERNUMBER_95_YEAR',\n",
    " 'SIGNEDNUMBER_95_YEAR',\n",
    " 'SUM_95_YEAR',\n",
    " 'ADMITTEDNUMBER_95_EVER',\n",
    " 'NOTADMITTEDNUMBER_EVER',\n",
    " 'WINNERNUMBER_95_EVER',\n",
    " 'SIGNEDNUMBER_95_EVER',\n",
    " 'COUNT_CHANGE_YEAR',\n",
    " 'COUNT_CHANGE_EVER',\n",
    " 'AGE',\n",
    " 'Российская Федерация']"
   ]
  },
  {
   "cell_type": "markdown",
   "id": "95889182",
   "metadata": {},
   "source": [
    "## Новая форма. Baseline: 0.9219889509336351"
   ]
  },
  {
   "cell_type": "code",
   "execution_count": 108,
   "id": "ad5739e2",
   "metadata": {},
   "outputs": [],
   "source": [
    "from copy import deepcopy"
   ]
  },
  {
   "cell_type": "code",
   "execution_count": 106,
   "id": "1726cf8e",
   "metadata": {},
   "outputs": [],
   "source": [
    "features_cols = train.drop('TARGET', axis='columns').select_dtypes(include=[np.number]).columns.tolist()"
   ]
  },
  {
   "cell_type": "code",
   "execution_count": 107,
   "id": "1c3e0dad",
   "metadata": {},
   "outputs": [
    {
     "data": {
      "text/plain": [
       "107"
      ]
     },
     "execution_count": 107,
     "metadata": {},
     "output_type": "execute_result"
    }
   ],
   "source": [
    "features_cols.__len__()"
   ]
  },
  {
   "cell_type": "code",
   "execution_count": 109,
   "id": "051656e8",
   "metadata": {},
   "outputs": [],
   "source": [
    "def transform(df):\n",
    "    \n",
    "    df['WORKERSRANGE'].fillna(\"-1\", inplace = True)  \n",
    "    df['WORKERSRANGE'] = df['WORKERSRANGE'].transform(lambda x : int(x.split(\" \")[0]))\n",
    "    \n",
    "    col_name = 'Российская Федерация'    \n",
    "    df[col_name] = (df['CITIZENSHIP_NAME'] == col_name).astype(int)"
   ]
  },
  {
   "cell_type": "code",
   "execution_count": 170,
   "id": "f5604630",
   "metadata": {},
   "outputs": [],
   "source": [
    "train = pd.read_csv(\"Datasets/train_dataset_hackathon_mkb.csv\", sep = ';', encoding = 'cp1251')\n",
    "test = pd.read_csv(\"Datasets/test_dataset_hackathon_mkb.csv\", sep = ';', encoding = 'cp1251')"
   ]
  },
  {
   "cell_type": "code",
   "execution_count": 171,
   "id": "8d567546",
   "metadata": {},
   "outputs": [],
   "source": [
    "transform(train)\n",
    "transform(test)"
   ]
  },
  {
   "cell_type": "markdown",
   "id": "15687b7e",
   "metadata": {},
   "source": [
    "## Feature 1: Time from prev. application"
   ]
  },
  {
   "cell_type": "code",
   "execution_count": 114,
   "id": "2fd3c0f4",
   "metadata": {},
   "outputs": [],
   "source": [
    "import datetime"
   ]
  },
  {
   "cell_type": "code",
   "execution_count": 112,
   "id": "c6827932",
   "metadata": {},
   "outputs": [],
   "source": [
    "combination = train.drop(columns = 'TARGET').append(test, ignore_index = True)\n",
    "combination['SIGN_DATE'] = combination['SIGN_DATE'].transform(lambda x : x[:9])"
   ]
  },
  {
   "cell_type": "code",
   "execution_count": 115,
   "id": "6f3b1de8",
   "metadata": {},
   "outputs": [],
   "source": [
    "combination['sign_dt'] = combination['SIGN_DATE'].transform(lambda x : (datetime.datetime.strptime(x, '%d%b%Y') - datetime.datetime(2018, 1, 1)).days)"
   ]
  },
  {
   "cell_type": "code",
   "execution_count": 116,
   "id": "309129f0",
   "metadata": {},
   "outputs": [],
   "source": [
    "combination['time_diff'] = (combination['sign_dt'] - combination.groupby('id_client')['sign_dt'].shift(1))\n",
    "combination['mean_time_diff'] = combination.groupby('id_client')['time_diff'].transform('mean')\n",
    "combination['application_number'] = combination.groupby('id_client').cumcount() + 1"
   ]
  },
  {
   "cell_type": "code",
   "execution_count": 129,
   "id": "db0f84a9",
   "metadata": {},
   "outputs": [
    {
     "data": {
      "text/plain": [
       "0"
      ]
     },
     "execution_count": 129,
     "metadata": {},
     "output_type": "execute_result"
    }
   ],
   "source": [
    "combination['application_number'].isna().sum()"
   ]
  },
  {
   "cell_type": "markdown",
   "id": "dd3c7083",
   "metadata": {},
   "source": [
    "### a) fillna = -1"
   ]
  },
  {
   "cell_type": "code",
   "execution_count": 118,
   "id": "0b4d74ed",
   "metadata": {},
   "outputs": [],
   "source": [
    "train['time_diff'] = combination.loc[train.index, 'time_diff'].fillna(-1)\n",
    "test['time_diff'] = combination.loc[test.index + train.shape[0] - 1, 'time_diff'].fillna(-1)"
   ]
  },
  {
   "cell_type": "code",
   "execution_count": 120,
   "id": "cdbc668e",
   "metadata": {},
   "outputs": [],
   "source": [
    "used_features = deepcopy(features_cols)\n",
    "used_features.append('time_diff')"
   ]
  },
  {
   "cell_type": "code",
   "execution_count": 121,
   "id": "146dc2c5",
   "metadata": {},
   "outputs": [
    {
     "data": {
      "text/plain": [
       "108"
      ]
     },
     "execution_count": 121,
     "metadata": {},
     "output_type": "execute_result"
    }
   ],
   "source": [
    "used_features.__len__()"
   ]
  },
  {
   "cell_type": "code",
   "execution_count": 122,
   "id": "b39ba006",
   "metadata": {},
   "outputs": [
    {
     "name": "stdout",
     "output_type": "stream",
     "text": [
      "roc_auc_score: 0.9367473766214556\n"
     ]
    }
   ],
   "source": [
    "model = CatBoostClassifier(**params, silent = True)\n",
    "\n",
    "cv_baseline_score = cross_val_score(model, train[used_features].fillna(0), train[lable_col], cv=5, scoring='roc_auc').mean()\n",
    "print(f'roc_auc_score: {cv_baseline_score}')"
   ]
  },
  {
   "cell_type": "markdown",
   "id": "ccb81e3a",
   "metadata": {},
   "source": [
    "### b) fillna = max"
   ]
  },
  {
   "cell_type": "code",
   "execution_count": 123,
   "id": "f21ca902",
   "metadata": {},
   "outputs": [],
   "source": [
    "train['time_diff'] = combination.loc[train.index, 'time_diff'].fillna(combination['time_diff'].max())\n",
    "test['time_diff'] = combination.loc[test.index + train.shape[0] - 1, 'time_diff'].fillna(combination['time_diff'].max())"
   ]
  },
  {
   "cell_type": "code",
   "execution_count": 124,
   "id": "5767c676",
   "metadata": {},
   "outputs": [
    {
     "name": "stdout",
     "output_type": "stream",
     "text": [
      "roc_auc_score: 0.9404875213821364\n"
     ]
    }
   ],
   "source": [
    "model = CatBoostClassifier(**params, silent = True)\n",
    "\n",
    "cv_baseline_score = cross_val_score(model, train[used_features].fillna(0), train[lable_col], cv=5, scoring='roc_auc').mean()\n",
    "print(f'roc_auc_score: {cv_baseline_score}')"
   ]
  },
  {
   "cell_type": "markdown",
   "id": "51d2c680",
   "metadata": {},
   "source": [
    "## c) fillna = 0"
   ]
  },
  {
   "cell_type": "code",
   "execution_count": 125,
   "id": "78f10407",
   "metadata": {},
   "outputs": [],
   "source": [
    "train['time_diff'] = combination.loc[train.index, 'time_diff']\n",
    "test['time_diff'] = combination.loc[test.index + train.shape[0] - 1, 'time_diff']"
   ]
  },
  {
   "cell_type": "code",
   "execution_count": 126,
   "id": "52e37ad8",
   "metadata": {},
   "outputs": [
    {
     "name": "stdout",
     "output_type": "stream",
     "text": [
      "roc_auc_score: 0.9240388205640999\n"
     ]
    }
   ],
   "source": [
    "model = CatBoostClassifier(**params, silent = True)\n",
    "\n",
    "cv_baseline_score = cross_val_score(model, train[used_features].fillna(0), train[lable_col], cv=5, scoring='roc_auc').mean()\n",
    "print(f'roc_auc_score: {cv_baseline_score}')"
   ]
  },
  {
   "cell_type": "markdown",
   "id": "27c871b8",
   "metadata": {},
   "source": [
    "## Chosen one:"
   ]
  },
  {
   "cell_type": "code",
   "execution_count": 172,
   "id": "2ba98f7d",
   "metadata": {},
   "outputs": [],
   "source": [
    "train['time_diff'] = combination.loc[train.index, 'time_diff'].fillna(combination['time_diff'].max())\n",
    "test['time_diff'] = combination.loc[test.index + train.shape[0] - 1, 'time_diff'].fillna(combination['time_diff'].max())"
   ]
  },
  {
   "cell_type": "code",
   "execution_count": 128,
   "id": "75776b6f",
   "metadata": {},
   "outputs": [],
   "source": [
    "features_cols.append('time_diff')"
   ]
  },
  {
   "cell_type": "markdown",
   "id": "1f9f579f",
   "metadata": {},
   "source": [
    "## Feature 2: Quantity of applications before this one"
   ]
  },
  {
   "cell_type": "code",
   "execution_count": 130,
   "id": "3415b3dd",
   "metadata": {},
   "outputs": [],
   "source": [
    "train['app_quant'] = combination.loc[train.index, 'application_number']\n",
    "test['app_quant'] = combination.loc[test.index + train.shape[0] - 1, 'application_number']"
   ]
  },
  {
   "cell_type": "code",
   "execution_count": 132,
   "id": "4adf1622",
   "metadata": {},
   "outputs": [],
   "source": [
    "used_features = deepcopy(features_cols)\n",
    "used_features.append('app_quant')"
   ]
  },
  {
   "cell_type": "code",
   "execution_count": 133,
   "id": "985d286b",
   "metadata": {},
   "outputs": [
    {
     "name": "stdout",
     "output_type": "stream",
     "text": [
      "roc_auc_score: 0.9403096490970453\n"
     ]
    }
   ],
   "source": [
    "model = CatBoostClassifier(**params, silent = True)\n",
    "\n",
    "cv_baseline_score = cross_val_score(model, train[used_features].fillna(0), train[lable_col], cv=5, scoring='roc_auc').mean()\n",
    "print(f'roc_auc_score: {cv_baseline_score}')"
   ]
  },
  {
   "cell_type": "code",
   "execution_count": 134,
   "id": "5df8bc3f",
   "metadata": {},
   "outputs": [],
   "source": [
    "train.drop(columns = 'app_quant', inplace = True)\n",
    "test.drop(columns = 'app_quant', inplace = True)"
   ]
  },
  {
   "cell_type": "markdown",
   "id": "f321bb01",
   "metadata": {},
   "source": [
    "## Feature 3: Average time between applications"
   ]
  },
  {
   "cell_type": "markdown",
   "id": "41a5dd43",
   "metadata": {},
   "source": [
    "### a) fillna = max"
   ]
  },
  {
   "cell_type": "code",
   "execution_count": 135,
   "id": "af3e8966",
   "metadata": {},
   "outputs": [],
   "source": [
    "train['avg_diff'] = combination.loc[train.index, 'mean_time_diff'].fillna(combination['mean_time_diff'].max())\n",
    "test['avg_diff'] = combination.loc[test.index + train.shape[0] - 1, 'mean_time_diff'].fillna(combination['mean_time_diff'].max())"
   ]
  },
  {
   "cell_type": "code",
   "execution_count": 136,
   "id": "809d438b",
   "metadata": {},
   "outputs": [],
   "source": [
    "used_features = deepcopy(features_cols)\n",
    "used_features.append('avg_diff')"
   ]
  },
  {
   "cell_type": "code",
   "execution_count": 137,
   "id": "db60b774",
   "metadata": {},
   "outputs": [
    {
     "name": "stdout",
     "output_type": "stream",
     "text": [
      "roc_auc_score: 0.9457477838466722\n"
     ]
    }
   ],
   "source": [
    "model = CatBoostClassifier(**params, silent = True)\n",
    "\n",
    "cv_baseline_score = cross_val_score(model, train[used_features].fillna(0), train[lable_col], cv=5, scoring='roc_auc').mean()\n",
    "print(f'roc_auc_score: {cv_baseline_score}')"
   ]
  },
  {
   "cell_type": "markdown",
   "id": "2bb61d47",
   "metadata": {},
   "source": [
    "### b) fillna = -1"
   ]
  },
  {
   "cell_type": "code",
   "execution_count": 138,
   "id": "360f7ce2",
   "metadata": {},
   "outputs": [],
   "source": [
    "train['avg_diff'] = combination.loc[train.index, 'mean_time_diff'].fillna(-1)\n",
    "test['avg_diff'] = combination.loc[test.index + train.shape[0] - 1, 'mean_time_diff'].fillna(-1)"
   ]
  },
  {
   "cell_type": "code",
   "execution_count": 139,
   "id": "e7c0b339",
   "metadata": {},
   "outputs": [],
   "source": [
    "used_features = deepcopy(features_cols)\n",
    "used_features.append('avg_diff')"
   ]
  },
  {
   "cell_type": "code",
   "execution_count": 140,
   "id": "e5e872de",
   "metadata": {},
   "outputs": [
    {
     "name": "stdout",
     "output_type": "stream",
     "text": [
      "roc_auc_score: 0.9459163684824716\n"
     ]
    }
   ],
   "source": [
    "model = CatBoostClassifier(**params, silent = True)\n",
    "\n",
    "cv_baseline_score = cross_val_score(model, train[used_features].fillna(0), train[lable_col], cv=5, scoring='roc_auc').mean()\n",
    "print(f'roc_auc_score: {cv_baseline_score}')"
   ]
  },
  {
   "cell_type": "markdown",
   "id": "84e84fb1",
   "metadata": {},
   "source": [
    "### c) fillna = 0"
   ]
  },
  {
   "cell_type": "code",
   "execution_count": 141,
   "id": "b52beab8",
   "metadata": {},
   "outputs": [],
   "source": [
    "train['avg_diff'] = combination.loc[train.index, 'mean_time_diff']\n",
    "test['avg_diff'] = combination.loc[test.index + train.shape[0] - 1, 'mean_time_diff']"
   ]
  },
  {
   "cell_type": "code",
   "execution_count": 142,
   "id": "5fac5d93",
   "metadata": {},
   "outputs": [
    {
     "name": "stdout",
     "output_type": "stream",
     "text": [
      "roc_auc_score: 0.9455661269167983\n"
     ]
    }
   ],
   "source": [
    "model = CatBoostClassifier(**params, silent = True)\n",
    "\n",
    "cv_baseline_score = cross_val_score(model, train[used_features].fillna(0), train[lable_col], cv=5, scoring='roc_auc').mean()\n",
    "print(f'roc_auc_score: {cv_baseline_score}')"
   ]
  },
  {
   "cell_type": "markdown",
   "id": "ab1a87d8",
   "metadata": {},
   "source": [
    "## Chosen one"
   ]
  },
  {
   "cell_type": "code",
   "execution_count": 173,
   "id": "8fd85a20",
   "metadata": {},
   "outputs": [],
   "source": [
    "train['avg_diff'] = combination.loc[train.index, 'mean_time_diff'].fillna(-1)\n",
    "test['avg_diff'] = combination.loc[test.index + train.shape[0] - 1, 'mean_time_diff'].fillna(-1)"
   ]
  },
  {
   "cell_type": "code",
   "execution_count": 145,
   "id": "c5cb81c8",
   "metadata": {},
   "outputs": [],
   "source": [
    "features_cols.append('avg_diff')"
   ]
  },
  {
   "cell_type": "markdown",
   "id": "d7d4f73b",
   "metadata": {},
   "source": [
    "## Non-KFold_Training"
   ]
  },
  {
   "cell_type": "code",
   "execution_count": 174,
   "id": "e882259d",
   "metadata": {
    "scrolled": true
   },
   "outputs": [
    {
     "name": "stdout",
     "output_type": "stream",
     "text": [
      "0:\tlearn: 0.6320684\ttotal: 155ms\tremaining: 19.2s\n",
      "1:\tlearn: 0.5773954\ttotal: 301ms\tremaining: 18.5s\n",
      "2:\tlearn: 0.5307430\ttotal: 442ms\tremaining: 18s\n",
      "3:\tlearn: 0.4995908\ttotal: 542ms\tremaining: 16.4s\n",
      "4:\tlearn: 0.4715261\ttotal: 662ms\tremaining: 15.9s\n",
      "5:\tlearn: 0.4599157\ttotal: 672ms\tremaining: 13.3s\n",
      "6:\tlearn: 0.4350859\ttotal: 796ms\tremaining: 13.4s\n",
      "7:\tlearn: 0.4126812\ttotal: 914ms\tremaining: 13.4s\n",
      "8:\tlearn: 0.3967199\ttotal: 1.04s\tremaining: 13.4s\n",
      "9:\tlearn: 0.3838099\ttotal: 1.16s\tremaining: 13.4s\n",
      "10:\tlearn: 0.3739512\ttotal: 1.18s\tremaining: 12.2s\n",
      "11:\tlearn: 0.3656856\ttotal: 1.2s\tremaining: 11.3s\n",
      "12:\tlearn: 0.3521494\ttotal: 1.32s\tremaining: 11.4s\n",
      "13:\tlearn: 0.3446150\ttotal: 1.34s\tremaining: 10.6s\n",
      "14:\tlearn: 0.3400598\ttotal: 1.35s\tremaining: 9.94s\n",
      "15:\tlearn: 0.3347546\ttotal: 1.41s\tremaining: 9.61s\n",
      "16:\tlearn: 0.3248630\ttotal: 1.54s\tremaining: 9.77s\n",
      "17:\tlearn: 0.3188317\ttotal: 1.63s\tremaining: 9.7s\n",
      "18:\tlearn: 0.3135351\ttotal: 1.76s\tremaining: 9.82s\n",
      "19:\tlearn: 0.3070245\ttotal: 1.88s\tremaining: 9.87s\n",
      "20:\tlearn: 0.3022182\ttotal: 2s\tremaining: 9.92s\n",
      "21:\tlearn: 0.2973823\ttotal: 2.04s\tremaining: 9.54s\n",
      "22:\tlearn: 0.2942804\ttotal: 2.16s\tremaining: 9.56s\n",
      "23:\tlearn: 0.2921308\ttotal: 2.19s\tremaining: 9.22s\n",
      "24:\tlearn: 0.2895509\ttotal: 2.31s\tremaining: 9.24s\n",
      "25:\tlearn: 0.2838687\ttotal: 2.44s\tremaining: 9.28s\n",
      "26:\tlearn: 0.2802790\ttotal: 2.56s\tremaining: 9.29s\n",
      "27:\tlearn: 0.2786054\ttotal: 2.68s\tremaining: 9.28s\n",
      "28:\tlearn: 0.2782308\ttotal: 2.69s\tremaining: 8.9s\n",
      "29:\tlearn: 0.2747699\ttotal: 2.81s\tremaining: 8.89s\n",
      "30:\tlearn: 0.2737643\ttotal: 2.82s\tremaining: 8.54s\n",
      "31:\tlearn: 0.2704269\ttotal: 2.94s\tremaining: 8.54s\n",
      "32:\tlearn: 0.2680995\ttotal: 3.06s\tremaining: 8.54s\n",
      "33:\tlearn: 0.2655538\ttotal: 3.19s\tremaining: 8.54s\n",
      "34:\tlearn: 0.2629335\ttotal: 3.33s\tremaining: 8.55s\n",
      "35:\tlearn: 0.2619564\ttotal: 3.43s\tremaining: 8.47s\n",
      "36:\tlearn: 0.2586501\ttotal: 3.56s\tremaining: 8.46s\n",
      "37:\tlearn: 0.2559029\ttotal: 3.68s\tremaining: 8.43s\n",
      "38:\tlearn: 0.2558775\ttotal: 3.69s\tremaining: 8.14s\n",
      "39:\tlearn: 0.2537662\ttotal: 3.81s\tremaining: 8.1s\n",
      "40:\tlearn: 0.2519811\ttotal: 3.93s\tremaining: 8.06s\n",
      "41:\tlearn: 0.2512040\ttotal: 3.95s\tremaining: 7.81s\n",
      "42:\tlearn: 0.2510492\ttotal: 3.96s\tremaining: 7.56s\n",
      "43:\tlearn: 0.2486999\ttotal: 4.08s\tremaining: 7.52s\n",
      "44:\tlearn: 0.2483106\ttotal: 4.1s\tremaining: 7.29s\n",
      "45:\tlearn: 0.2458032\ttotal: 4.22s\tremaining: 7.26s\n",
      "46:\tlearn: 0.2456370\ttotal: 4.23s\tremaining: 7.03s\n",
      "47:\tlearn: 0.2442375\ttotal: 4.36s\tremaining: 6.99s\n",
      "48:\tlearn: 0.2437071\ttotal: 4.37s\tremaining: 6.78s\n",
      "49:\tlearn: 0.2435482\ttotal: 4.38s\tremaining: 6.57s\n",
      "50:\tlearn: 0.2433159\ttotal: 4.39s\tremaining: 6.37s\n",
      "51:\tlearn: 0.2417970\ttotal: 4.51s\tremaining: 6.34s\n",
      "52:\tlearn: 0.2417894\ttotal: 4.52s\tremaining: 6.14s\n",
      "53:\tlearn: 0.2415289\ttotal: 4.54s\tremaining: 5.96s\n",
      "54:\tlearn: 0.2411687\ttotal: 4.55s\tremaining: 5.79s\n",
      "55:\tlearn: 0.2405300\ttotal: 4.58s\tremaining: 5.64s\n",
      "56:\tlearn: 0.2403644\ttotal: 4.59s\tremaining: 5.48s\n",
      "57:\tlearn: 0.2385992\ttotal: 4.71s\tremaining: 5.44s\n",
      "58:\tlearn: 0.2378798\ttotal: 4.73s\tremaining: 5.29s\n",
      "59:\tlearn: 0.2377568\ttotal: 4.74s\tremaining: 5.13s\n",
      "60:\tlearn: 0.2357980\ttotal: 4.86s\tremaining: 5.1s\n",
      "61:\tlearn: 0.2352195\ttotal: 4.98s\tremaining: 5.06s\n",
      "62:\tlearn: 0.2350330\ttotal: 4.99s\tremaining: 4.92s\n",
      "63:\tlearn: 0.2338411\ttotal: 5.13s\tremaining: 4.89s\n",
      "64:\tlearn: 0.2323821\ttotal: 5.26s\tremaining: 4.85s\n",
      "65:\tlearn: 0.2317373\ttotal: 5.29s\tremaining: 4.73s\n",
      "66:\tlearn: 0.2301597\ttotal: 5.42s\tremaining: 4.69s\n",
      "67:\tlearn: 0.2284287\ttotal: 5.55s\tremaining: 4.65s\n",
      "68:\tlearn: 0.2277046\ttotal: 5.58s\tremaining: 4.53s\n",
      "69:\tlearn: 0.2268036\ttotal: 5.71s\tremaining: 4.49s\n",
      "70:\tlearn: 0.2261486\ttotal: 5.84s\tremaining: 4.44s\n",
      "71:\tlearn: 0.2257533\ttotal: 5.85s\tremaining: 4.31s\n",
      "72:\tlearn: 0.2250572\ttotal: 5.97s\tremaining: 4.25s\n",
      "73:\tlearn: 0.2239689\ttotal: 6.11s\tremaining: 4.21s\n",
      "74:\tlearn: 0.2230610\ttotal: 6.23s\tremaining: 4.15s\n",
      "75:\tlearn: 0.2223963\ttotal: 6.32s\tremaining: 4.08s\n",
      "76:\tlearn: 0.2219523\ttotal: 6.45s\tremaining: 4.02s\n",
      "77:\tlearn: 0.2218028\ttotal: 6.46s\tremaining: 3.89s\n",
      "78:\tlearn: 0.2216175\ttotal: 6.47s\tremaining: 3.77s\n",
      "79:\tlearn: 0.2210079\ttotal: 6.59s\tremaining: 3.71s\n",
      "80:\tlearn: 0.2204338\ttotal: 6.71s\tremaining: 3.65s\n",
      "81:\tlearn: 0.2185368\ttotal: 6.84s\tremaining: 3.59s\n",
      "82:\tlearn: 0.2184451\ttotal: 6.86s\tremaining: 3.47s\n",
      "83:\tlearn: 0.2183043\ttotal: 6.87s\tremaining: 3.35s\n",
      "84:\tlearn: 0.2160131\ttotal: 7s\tremaining: 3.29s\n",
      "85:\tlearn: 0.2159787\ttotal: 7.01s\tremaining: 3.18s\n",
      "86:\tlearn: 0.2153653\ttotal: 7.06s\tremaining: 3.08s\n",
      "87:\tlearn: 0.2152383\ttotal: 7.08s\tremaining: 2.98s\n",
      "88:\tlearn: 0.2147916\ttotal: 7.2s\tremaining: 2.91s\n",
      "89:\tlearn: 0.2146322\ttotal: 7.21s\tremaining: 2.8s\n",
      "90:\tlearn: 0.2134736\ttotal: 7.33s\tremaining: 2.74s\n",
      "91:\tlearn: 0.2114386\ttotal: 7.46s\tremaining: 2.68s\n",
      "92:\tlearn: 0.2098919\ttotal: 7.59s\tremaining: 2.61s\n",
      "93:\tlearn: 0.2087200\ttotal: 7.71s\tremaining: 2.54s\n",
      "94:\tlearn: 0.2078888\ttotal: 7.84s\tremaining: 2.48s\n",
      "95:\tlearn: 0.2073526\ttotal: 7.96s\tremaining: 2.4s\n",
      "96:\tlearn: 0.2072689\ttotal: 7.97s\tremaining: 2.3s\n",
      "97:\tlearn: 0.2069937\ttotal: 8s\tremaining: 2.2s\n",
      "98:\tlearn: 0.2067980\ttotal: 8.01s\tremaining: 2.1s\n",
      "99:\tlearn: 0.2063839\ttotal: 8.03s\tremaining: 2.01s\n",
      "100:\tlearn: 0.2052147\ttotal: 8.15s\tremaining: 1.94s\n",
      "101:\tlearn: 0.2051659\ttotal: 8.16s\tremaining: 1.84s\n",
      "102:\tlearn: 0.2041145\ttotal: 8.29s\tremaining: 1.77s\n",
      "103:\tlearn: 0.2038277\ttotal: 8.33s\tremaining: 1.68s\n",
      "104:\tlearn: 0.2030474\ttotal: 8.47s\tremaining: 1.61s\n",
      "105:\tlearn: 0.2025616\ttotal: 8.6s\tremaining: 1.54s\n",
      "106:\tlearn: 0.2022830\ttotal: 8.7s\tremaining: 1.46s\n",
      "107:\tlearn: 0.2018225\ttotal: 8.73s\tremaining: 1.37s\n",
      "108:\tlearn: 0.2012437\ttotal: 8.85s\tremaining: 1.3s\n",
      "109:\tlearn: 0.2010742\ttotal: 8.87s\tremaining: 1.21s\n",
      "110:\tlearn: 0.2005456\ttotal: 8.93s\tremaining: 1.13s\n",
      "111:\tlearn: 0.2005431\ttotal: 8.94s\tremaining: 1.04s\n",
      "112:\tlearn: 0.2005233\ttotal: 8.95s\tremaining: 950ms\n",
      "113:\tlearn: 0.2002778\ttotal: 8.96s\tremaining: 864ms\n",
      "114:\tlearn: 0.2000140\ttotal: 9.01s\tremaining: 784ms\n",
      "115:\tlearn: 0.1988596\ttotal: 9.13s\tremaining: 709ms\n",
      "116:\tlearn: 0.1979307\ttotal: 9.26s\tremaining: 633ms\n",
      "117:\tlearn: 0.1978356\ttotal: 9.27s\tremaining: 550ms\n",
      "118:\tlearn: 0.1964275\ttotal: 9.4s\tremaining: 474ms\n",
      "119:\tlearn: 0.1947748\ttotal: 9.53s\tremaining: 397ms\n",
      "120:\tlearn: 0.1947138\ttotal: 9.54s\tremaining: 315ms\n",
      "121:\tlearn: 0.1945198\ttotal: 9.56s\tremaining: 235ms\n",
      "122:\tlearn: 0.1937723\ttotal: 9.69s\tremaining: 158ms\n",
      "123:\tlearn: 0.1933287\ttotal: 9.81s\tremaining: 79.1ms\n",
      "124:\tlearn: 0.1932372\ttotal: 9.82s\tremaining: 0us\n"
     ]
    },
    {
     "data": {
      "text/plain": [
       "<catboost.core.CatBoostClassifier at 0x7fcf3a0805e0>"
      ]
     },
     "execution_count": 174,
     "metadata": {},
     "output_type": "execute_result"
    }
   ],
   "source": [
    "model = CatBoostClassifier(**params)\n",
    "model.fit(train[features_cols], train[lable_col])"
   ]
  },
  {
   "cell_type": "code",
   "execution_count": 175,
   "id": "25754592",
   "metadata": {},
   "outputs": [],
   "source": [
    "subm = pd.read_csv(\"Datasets/test_dataset_hackathon_mkb.csv\", sep = ';', encoding = 'cp1251')\n",
    "\n",
    "subm['TARGET'] = model.predict_proba(test[features_cols])[:, 1]\n",
    "\n",
    "subm[['id_contract', 'TARGET']].to_csv(\"submission_example.csv\", sep = ';', index = False)"
   ]
  },
  {
   "cell_type": "code",
   "execution_count": 178,
   "id": "3842081e",
   "metadata": {},
   "outputs": [],
   "source": [
    "def plot_calibration_curve(y_test, preds):\n",
    "    \"\"\"\n",
    "    preds --- array of probabilities\n",
    "    \"\"\"\n",
    "    bin_middle_points = []\n",
    "    bin_real_ratios = []\n",
    "    n_bins = 20\n",
    "    for i in range(n_bins):\n",
    "        l = 1.0 / n_bins * i\n",
    "        r = 1.0 / n_bins * (i + 1)\n",
    "        bin_middle_points.append((l + r) / 2)\n",
    "        bin_real_ratios.append(np.mean(y_test[(preds >= l) & (preds < r)]))\n",
    "    plt.plot(bin_middle_points, bin_real_ratios)\n",
    "    plt.show()"
   ]
  },
  {
   "cell_type": "code",
   "execution_count": null,
   "id": "2831a1df",
   "metadata": {},
   "outputs": [],
   "source": []
  },
  {
   "cell_type": "markdown",
   "id": "453946dd",
   "metadata": {},
   "source": [
    "## Training"
   ]
  },
  {
   "cell_type": "code",
   "execution_count": 177,
   "id": "0b4053e2",
   "metadata": {},
   "outputs": [],
   "source": [
    "from sklearn.model_selection import KFold\n",
    "from sklearn import metrics"
   ]
  },
  {
   "cell_type": "code",
   "execution_count": 179,
   "id": "1102c4ff",
   "metadata": {
    "scrolled": true
   },
   "outputs": [
    {
     "data": {
      "image/png": "[encoded data removed]",
      "text/plain": [
       "<Figure size 432x288 with 1 Axes>"
      ]
     },
     "metadata": {},
     "output_type": "display_data"
    },
    {
     "name": "stdout",
     "output_type": "stream",
     "text": [
      "Iter number 1 0.955210893213776\n"
     ]
    },
    {
     "data": {
      "image/png": "[encoded data removed]",
      "text/plain": [
       "<Figure size 432x288 with 1 Axes>"
      ]
     },
     "metadata": {},
     "output_type": "display_data"
    },
    {
     "name": "stdout",
     "output_type": "stream",
     "text": [
      "Iter number 2 0.9357827865775842\n"
     ]
    },
    {
     "data": {
      "image/png": "[encoded data removed]",
      "text/plain": [
       "<Figure size 432x288 with 1 Axes>"
      ]
     },
     "metadata": {},
     "output_type": "display_data"
    },
    {
     "name": "stdout",
     "output_type": "stream",
     "text": [
      "Iter number 3 0.9457188949926836\n"
     ]
    },
    {
     "data": {
      "image/png": "[encoded data removed]",
      "text/plain": [
       "<Figure size 432x288 with 1 Axes>"
      ]
     },
     "metadata": {},
     "output_type": "display_data"
    },
    {
     "name": "stdout",
     "output_type": "stream",
     "text": [
      "Iter number 4 0.9332119446467589\n"
     ]
    },
    {
     "data": {
      "image/png": "[encoded data removed]",
      "text/plain": [
       "<Figure size 432x288 with 1 Axes>"
      ]
     },
     "metadata": {},
     "output_type": "display_data"
    },
    {
     "name": "stdout",
     "output_type": "stream",
     "text": [
      "Iter number 5 0.9571673316083518\n"
     ]
    }
   ],
   "source": [
    "models = []\n",
    "k = 1\n",
    "\n",
    "for train_ids, test_ids in KFold(n_splits=5).split(train[features_cols], train[lable_col]):\n",
    "    \n",
    "    X_train, X_test = train.loc[train_ids, features_cols], train.loc[test_ids, features_cols]\n",
    "    Y_train, Y_test = train.loc[train_ids, lable_col], train.loc[test_ids, lable_col]\n",
    "    \n",
    "    model = CatBoostClassifier(**params, silent = True)\n",
    "    model.fit(X_train, Y_train, eval_set = (X_test, Y_test))\n",
    "    \n",
    "    plot_calibration_curve(Y_test, model.predict_proba(X_test)[:, 1])\n",
    "    \n",
    "    print(f\"Iter number {k}\", metrics.roc_auc_score(Y_test, model.predict_proba(X_test)[:, 1]))\n",
    "    models.append(model)\n",
    "    k += 1"
   ]
  },
  {
   "cell_type": "code",
   "execution_count": 151,
   "id": "e46dfd71",
   "metadata": {},
   "outputs": [],
   "source": [
    "subm = pd.read_csv(\"Datasets/test_dataset_hackathon_mkb.csv\", sep = ';', encoding = 'cp1251')\n",
    "\n",
    "subm['TARGET'] = 0.0\n",
    "\n",
    "for model in models:\n",
    "    \n",
    "    subm['TARGET'] += model.predict_proba(test[features_cols])[:, 1]\n",
    "    \n",
    "subm['TARGET'] /= 5"
   ]
  },
  {
   "cell_type": "code",
   "execution_count": 152,
   "id": "88363db7",
   "metadata": {},
   "outputs": [],
   "source": [
    "subm[['id_contract', 'TARGET']].to_csv(\"submission_example.csv\", sep = ';', index = False)"
   ]
  },
  {
   "cell_type": "markdown",
   "id": "e2616cb8",
   "metadata": {},
   "source": [
    "## Manually changing answers"
   ]
  },
  {
   "cell_type": "code",
   "execution_count": 153,
   "id": "9acf806a",
   "metadata": {},
   "outputs": [],
   "source": [
    "exemp = pd.DataFrame.copy(subm)"
   ]
  },
  {
   "cell_type": "code",
   "execution_count": 154,
   "id": "ba0e25fe",
   "metadata": {
    "collapsed": true
   },
   "outputs": [
    {
     "data": {
      "text/html": [
       "<div>\n",
       "<style scoped>\n",
       "    .dataframe tbody tr th:only-of-type {\n",
       "        vertical-align: middle;\n",
       "    }\n",
       "\n",
       "    .dataframe tbody tr th {\n",
       "        vertical-align: top;\n",
       "    }\n",
       "\n",
       "    .dataframe thead th {\n",
       "        text-align: right;\n",
       "    }\n",
       "</style>\n",
       "<table border=\"1\" class=\"dataframe\">\n",
       "  <thead>\n",
       "    <tr style=\"text-align: right;\">\n",
       "      <th></th>\n",
       "      <th>id_client</th>\n",
       "      <th>TARGET</th>\n",
       "    </tr>\n",
       "  </thead>\n",
       "  <tbody>\n",
       "    <tr>\n",
       "      <th>0</th>\n",
       "      <td>3620</td>\n",
       "      <td>0.226580</td>\n",
       "    </tr>\n",
       "    <tr>\n",
       "      <th>1</th>\n",
       "      <td>4101</td>\n",
       "      <td>0.418582</td>\n",
       "    </tr>\n",
       "    <tr>\n",
       "      <th>2</th>\n",
       "      <td>9589</td>\n",
       "      <td>0.357320</td>\n",
       "    </tr>\n",
       "    <tr>\n",
       "      <th>3</th>\n",
       "      <td>11546</td>\n",
       "      <td>0.809954</td>\n",
       "    </tr>\n",
       "    <tr>\n",
       "      <th>4</th>\n",
       "      <td>12558</td>\n",
       "      <td>0.929643</td>\n",
       "    </tr>\n",
       "    <tr>\n",
       "      <th>...</th>\n",
       "      <td>...</td>\n",
       "      <td>...</td>\n",
       "    </tr>\n",
       "    <tr>\n",
       "      <th>7325</th>\n",
       "      <td>8128</td>\n",
       "      <td>0.811091</td>\n",
       "    </tr>\n",
       "    <tr>\n",
       "      <th>7326</th>\n",
       "      <td>1132</td>\n",
       "      <td>0.043598</td>\n",
       "    </tr>\n",
       "    <tr>\n",
       "      <th>7327</th>\n",
       "      <td>4932</td>\n",
       "      <td>0.824088</td>\n",
       "    </tr>\n",
       "    <tr>\n",
       "      <th>7328</th>\n",
       "      <td>537</td>\n",
       "      <td>0.893254</td>\n",
       "    </tr>\n",
       "    <tr>\n",
       "      <th>7329</th>\n",
       "      <td>9916</td>\n",
       "      <td>0.331897</td>\n",
       "    </tr>\n",
       "  </tbody>\n",
       "</table>\n",
       "<p>7330 rows × 2 columns</p>\n",
       "</div>"
      ],
      "text/plain": [
       "      id_client    TARGET\n",
       "0          3620  0.226580\n",
       "1          4101  0.418582\n",
       "2          9589  0.357320\n",
       "3         11546  0.809954\n",
       "4         12558  0.929643\n",
       "...         ...       ...\n",
       "7325       8128  0.811091\n",
       "7326       1132  0.043598\n",
       "7327       4932  0.824088\n",
       "7328        537  0.893254\n",
       "7329       9916  0.331897\n",
       "\n",
       "[7330 rows x 2 columns]"
      ]
     },
     "execution_count": 154,
     "metadata": {},
     "output_type": "execute_result"
    }
   ],
   "source": [
    "exemp[['id_client', 'TARGET']]"
   ]
  },
  {
   "cell_type": "code",
   "execution_count": 155,
   "id": "e898b292",
   "metadata": {},
   "outputs": [],
   "source": [
    "intersect = set(exemp['id_client']) & set(train['id_client'])"
   ]
  },
  {
   "cell_type": "code",
   "execution_count": 156,
   "id": "d467fc85",
   "metadata": {},
   "outputs": [],
   "source": [
    "train = pd.read_csv(\"Datasets/train_dataset_hackathon_mkb.csv\", sep = ';', encoding = 'cp1251')"
   ]
  },
  {
   "cell_type": "code",
   "execution_count": 157,
   "id": "703755ee",
   "metadata": {},
   "outputs": [],
   "source": [
    "active_ids = (train.groupby('id_client')['id_contract'].count() > 5).keys()[(train.groupby('id_client')['id_contract'].count() > 5).values]"
   ]
  },
  {
   "cell_type": "code",
   "execution_count": 158,
   "id": "f8d77eb0",
   "metadata": {},
   "outputs": [
    {
     "data": {
      "text/plain": [
       "145"
      ]
     },
     "execution_count": 158,
     "metadata": {},
     "output_type": "execute_result"
    }
   ],
   "source": [
    "len(set(active_ids) & intersect)"
   ]
  },
  {
   "cell_type": "code",
   "execution_count": 159,
   "id": "062e6ba4",
   "metadata": {},
   "outputs": [],
   "source": [
    "their_values = train.groupby('id_client')['TARGET'].mean()[(train.groupby('id_client')['id_contract'].count() > 5)].values"
   ]
  },
  {
   "cell_type": "code",
   "execution_count": 160,
   "id": "1b4c166b",
   "metadata": {},
   "outputs": [],
   "source": [
    "their_values[(their_values > 0.8)] = 1\n",
    "their_values[(their_values < 0.2)] = 0"
   ]
  },
  {
   "cell_type": "code",
   "execution_count": 161,
   "id": "fc6f442a",
   "metadata": {},
   "outputs": [],
   "source": [
    "kept_ones = (their_values == 1) | (their_values == 0)"
   ]
  },
  {
   "cell_type": "code",
   "execution_count": 162,
   "id": "07b75d71",
   "metadata": {},
   "outputs": [],
   "source": [
    "active_ids = active_ids[kept_ones]\n",
    "their_values = their_values[kept_ones]"
   ]
  },
  {
   "cell_type": "code",
   "execution_count": 163,
   "id": "db752273",
   "metadata": {},
   "outputs": [
    {
     "data": {
      "text/plain": [
       "((303,), (303,))"
      ]
     },
     "execution_count": 163,
     "metadata": {},
     "output_type": "execute_result"
    }
   ],
   "source": [
    "active_ids.shape, their_values.shape"
   ]
  },
  {
   "cell_type": "code",
   "execution_count": 164,
   "id": "e6b77401",
   "metadata": {},
   "outputs": [],
   "source": [
    "sub_df = pd.DataFrame(np.array([active_ids, their_values]).T, columns = ['id_client', 'TARGET_new'])"
   ]
  },
  {
   "cell_type": "code",
   "execution_count": 165,
   "id": "454355c3",
   "metadata": {},
   "outputs": [],
   "source": [
    "exemp = exemp.merge(sub_df, how = 'left')"
   ]
  },
  {
   "cell_type": "code",
   "execution_count": 166,
   "id": "171bf28d",
   "metadata": {},
   "outputs": [],
   "source": [
    "exemp.loc[~exemp['TARGET_new'].isna(), 'TARGET'] = exemp.loc[~exemp['TARGET_new'].isna(), 'TARGET_new']"
   ]
  },
  {
   "cell_type": "code",
   "execution_count": 168,
   "id": "2b961631",
   "metadata": {},
   "outputs": [],
   "source": [
    "exemp[['id_contract', 'TARGET']].to_csv(\"submission_tied.csv\", sep = ';', index = False)"
   ]
  },
  {
   "cell_type": "code",
   "execution_count": null,
   "id": "0e4a2a29",
   "metadata": {},
   "outputs": [],
   "source": []
  }
 ],
 "metadata": {
  "kernelspec": {
   "display_name": "Python 3 (ipykernel)",
   "language": "python",
   "name": "python3"
  },
  "language_info": {
   "codemirror_mode": {
    "name": "ipython",
    "version": 3
   },
   "file_extension": ".py",
   "mimetype": "text/x-python",
   "name": "python",
   "nbconvert_exporter": "python",
   "pygments_lexer": "ipython3",
   "version": "3.8.10"
  }
 },
 "nbformat": 4,
 "nbformat_minor": 5
}
